{
 "cells": [
  {
   "cell_type": "code",
   "execution_count": 1,
   "id": "fc599330",
   "metadata": {
    "_cell_guid": "b1076dfc-b9ad-4769-8c92-a6c4dae69d19",
    "_uuid": "8f2839f25d086af736a60e9eeb907d3b93b6e0e5",
    "execution": {
     "iopub.execute_input": "2023-10-10T14:59:08.509429Z",
     "iopub.status.busy": "2023-10-10T14:59:08.508694Z",
     "iopub.status.idle": "2023-10-10T14:59:08.524448Z",
     "shell.execute_reply": "2023-10-10T14:59:08.523198Z"
    },
    "papermill": {
     "duration": 0.027684,
     "end_time": "2023-10-10T14:59:08.526554",
     "exception": false,
     "start_time": "2023-10-10T14:59:08.498870",
     "status": "completed"
    },
    "tags": []
   },
   "outputs": [
    {
     "name": "stdout",
     "output_type": "stream",
     "text": [
      "/kaggle/input/creditcardfraud/creditcard.csv\n"
     ]
    }
   ],
   "source": [
    "import os\n",
    "for dirname, _, filenames in os.walk('/kaggle/input'):\n",
    "    for filename in filenames:\n",
    "        print(os.path.join(dirname, filename))\n",
    "\n"
   ]
  },
  {
   "cell_type": "markdown",
   "id": "78a79188",
   "metadata": {
    "execution": {
     "iopub.execute_input": "2023-10-10T13:29:22.096465Z",
     "iopub.status.busy": "2023-10-10T13:29:22.095766Z",
     "iopub.status.idle": "2023-10-10T13:29:22.127276Z",
     "shell.execute_reply": "2023-10-10T13:29:22.126544Z",
     "shell.execute_reply.started": "2023-10-10T13:29:22.096432Z"
    },
    "papermill": {
     "duration": 0.007161,
     "end_time": "2023-10-10T14:59:08.541382",
     "exception": false,
     "start_time": "2023-10-10T14:59:08.534221",
     "status": "completed"
    },
    "tags": []
   },
   "source": [
    "## Importing the dependencies"
   ]
  },
  {
   "cell_type": "code",
   "execution_count": 2,
   "id": "2acad21e",
   "metadata": {
    "execution": {
     "iopub.execute_input": "2023-10-10T14:59:08.558284Z",
     "iopub.status.busy": "2023-10-10T14:59:08.557605Z",
     "iopub.status.idle": "2023-10-10T14:59:10.333923Z",
     "shell.execute_reply": "2023-10-10T14:59:10.332889Z"
    },
    "papermill": {
     "duration": 1.787559,
     "end_time": "2023-10-10T14:59:10.336346",
     "exception": false,
     "start_time": "2023-10-10T14:59:08.548787",
     "status": "completed"
    },
    "tags": []
   },
   "outputs": [],
   "source": [
    "import numpy as np   #useful for making arrays\n",
    "import pandas as pd  #as our dataset is a csv file we need a library to make it into dataframes\n",
    "from sklearn.model_selection import train_test_split #allows our data to split our dataset into test and train\n",
    "from sklearn.linear_model import LogisticRegression\n",
    "from sklearn.metrics import accuracy_score\n"
   ]
  },
  {
   "cell_type": "code",
   "execution_count": 3,
   "id": "4a8e939a",
   "metadata": {
    "execution": {
     "iopub.execute_input": "2023-10-10T14:59:10.353670Z",
     "iopub.status.busy": "2023-10-10T14:59:10.352664Z",
     "iopub.status.idle": "2023-10-10T14:59:15.241068Z",
     "shell.execute_reply": "2023-10-10T14:59:15.239905Z"
    },
    "papermill": {
     "duration": 4.899293,
     "end_time": "2023-10-10T14:59:15.243336",
     "exception": false,
     "start_time": "2023-10-10T14:59:10.344043",
     "status": "completed"
    },
    "tags": []
   },
   "outputs": [],
   "source": [
    "# Loading the dataset to a pandas dataframe\n",
    "credit_card_data =pd.read_csv(\"/kaggle/input/creditcardfraud/creditcard.csv\")"
   ]
  },
  {
   "cell_type": "code",
   "execution_count": 4,
   "id": "d90c4ea4",
   "metadata": {
    "execution": {
     "iopub.execute_input": "2023-10-10T14:59:15.260412Z",
     "iopub.status.busy": "2023-10-10T14:59:15.260011Z",
     "iopub.status.idle": "2023-10-10T14:59:15.297995Z",
     "shell.execute_reply": "2023-10-10T14:59:15.296814Z"
    },
    "papermill": {
     "duration": 0.049123,
     "end_time": "2023-10-10T14:59:15.300375",
     "exception": false,
     "start_time": "2023-10-10T14:59:15.251252",
     "status": "completed"
    },
    "tags": []
   },
   "outputs": [
    {
     "data": {
      "text/html": [
       "<div>\n",
       "<style scoped>\n",
       "    .dataframe tbody tr th:only-of-type {\n",
       "        vertical-align: middle;\n",
       "    }\n",
       "\n",
       "    .dataframe tbody tr th {\n",
       "        vertical-align: top;\n",
       "    }\n",
       "\n",
       "    .dataframe thead th {\n",
       "        text-align: right;\n",
       "    }\n",
       "</style>\n",
       "<table border=\"1\" class=\"dataframe\">\n",
       "  <thead>\n",
       "    <tr style=\"text-align: right;\">\n",
       "      <th></th>\n",
       "      <th>Time</th>\n",
       "      <th>V1</th>\n",
       "      <th>V2</th>\n",
       "      <th>V3</th>\n",
       "      <th>V4</th>\n",
       "      <th>V5</th>\n",
       "      <th>V6</th>\n",
       "      <th>V7</th>\n",
       "      <th>V8</th>\n",
       "      <th>V9</th>\n",
       "      <th>...</th>\n",
       "      <th>V21</th>\n",
       "      <th>V22</th>\n",
       "      <th>V23</th>\n",
       "      <th>V24</th>\n",
       "      <th>V25</th>\n",
       "      <th>V26</th>\n",
       "      <th>V27</th>\n",
       "      <th>V28</th>\n",
       "      <th>Amount</th>\n",
       "      <th>Class</th>\n",
       "    </tr>\n",
       "  </thead>\n",
       "  <tbody>\n",
       "    <tr>\n",
       "      <th>0</th>\n",
       "      <td>0.0</td>\n",
       "      <td>-1.359807</td>\n",
       "      <td>-0.072781</td>\n",
       "      <td>2.536347</td>\n",
       "      <td>1.378155</td>\n",
       "      <td>-0.338321</td>\n",
       "      <td>0.462388</td>\n",
       "      <td>0.239599</td>\n",
       "      <td>0.098698</td>\n",
       "      <td>0.363787</td>\n",
       "      <td>...</td>\n",
       "      <td>-0.018307</td>\n",
       "      <td>0.277838</td>\n",
       "      <td>-0.110474</td>\n",
       "      <td>0.066928</td>\n",
       "      <td>0.128539</td>\n",
       "      <td>-0.189115</td>\n",
       "      <td>0.133558</td>\n",
       "      <td>-0.021053</td>\n",
       "      <td>149.62</td>\n",
       "      <td>0</td>\n",
       "    </tr>\n",
       "    <tr>\n",
       "      <th>1</th>\n",
       "      <td>0.0</td>\n",
       "      <td>1.191857</td>\n",
       "      <td>0.266151</td>\n",
       "      <td>0.166480</td>\n",
       "      <td>0.448154</td>\n",
       "      <td>0.060018</td>\n",
       "      <td>-0.082361</td>\n",
       "      <td>-0.078803</td>\n",
       "      <td>0.085102</td>\n",
       "      <td>-0.255425</td>\n",
       "      <td>...</td>\n",
       "      <td>-0.225775</td>\n",
       "      <td>-0.638672</td>\n",
       "      <td>0.101288</td>\n",
       "      <td>-0.339846</td>\n",
       "      <td>0.167170</td>\n",
       "      <td>0.125895</td>\n",
       "      <td>-0.008983</td>\n",
       "      <td>0.014724</td>\n",
       "      <td>2.69</td>\n",
       "      <td>0</td>\n",
       "    </tr>\n",
       "    <tr>\n",
       "      <th>2</th>\n",
       "      <td>1.0</td>\n",
       "      <td>-1.358354</td>\n",
       "      <td>-1.340163</td>\n",
       "      <td>1.773209</td>\n",
       "      <td>0.379780</td>\n",
       "      <td>-0.503198</td>\n",
       "      <td>1.800499</td>\n",
       "      <td>0.791461</td>\n",
       "      <td>0.247676</td>\n",
       "      <td>-1.514654</td>\n",
       "      <td>...</td>\n",
       "      <td>0.247998</td>\n",
       "      <td>0.771679</td>\n",
       "      <td>0.909412</td>\n",
       "      <td>-0.689281</td>\n",
       "      <td>-0.327642</td>\n",
       "      <td>-0.139097</td>\n",
       "      <td>-0.055353</td>\n",
       "      <td>-0.059752</td>\n",
       "      <td>378.66</td>\n",
       "      <td>0</td>\n",
       "    </tr>\n",
       "    <tr>\n",
       "      <th>3</th>\n",
       "      <td>1.0</td>\n",
       "      <td>-0.966272</td>\n",
       "      <td>-0.185226</td>\n",
       "      <td>1.792993</td>\n",
       "      <td>-0.863291</td>\n",
       "      <td>-0.010309</td>\n",
       "      <td>1.247203</td>\n",
       "      <td>0.237609</td>\n",
       "      <td>0.377436</td>\n",
       "      <td>-1.387024</td>\n",
       "      <td>...</td>\n",
       "      <td>-0.108300</td>\n",
       "      <td>0.005274</td>\n",
       "      <td>-0.190321</td>\n",
       "      <td>-1.175575</td>\n",
       "      <td>0.647376</td>\n",
       "      <td>-0.221929</td>\n",
       "      <td>0.062723</td>\n",
       "      <td>0.061458</td>\n",
       "      <td>123.50</td>\n",
       "      <td>0</td>\n",
       "    </tr>\n",
       "    <tr>\n",
       "      <th>4</th>\n",
       "      <td>2.0</td>\n",
       "      <td>-1.158233</td>\n",
       "      <td>0.877737</td>\n",
       "      <td>1.548718</td>\n",
       "      <td>0.403034</td>\n",
       "      <td>-0.407193</td>\n",
       "      <td>0.095921</td>\n",
       "      <td>0.592941</td>\n",
       "      <td>-0.270533</td>\n",
       "      <td>0.817739</td>\n",
       "      <td>...</td>\n",
       "      <td>-0.009431</td>\n",
       "      <td>0.798278</td>\n",
       "      <td>-0.137458</td>\n",
       "      <td>0.141267</td>\n",
       "      <td>-0.206010</td>\n",
       "      <td>0.502292</td>\n",
       "      <td>0.219422</td>\n",
       "      <td>0.215153</td>\n",
       "      <td>69.99</td>\n",
       "      <td>0</td>\n",
       "    </tr>\n",
       "  </tbody>\n",
       "</table>\n",
       "<p>5 rows × 31 columns</p>\n",
       "</div>"
      ],
      "text/plain": [
       "   Time        V1        V2        V3        V4        V5        V6        V7  \\\n",
       "0   0.0 -1.359807 -0.072781  2.536347  1.378155 -0.338321  0.462388  0.239599   \n",
       "1   0.0  1.191857  0.266151  0.166480  0.448154  0.060018 -0.082361 -0.078803   \n",
       "2   1.0 -1.358354 -1.340163  1.773209  0.379780 -0.503198  1.800499  0.791461   \n",
       "3   1.0 -0.966272 -0.185226  1.792993 -0.863291 -0.010309  1.247203  0.237609   \n",
       "4   2.0 -1.158233  0.877737  1.548718  0.403034 -0.407193  0.095921  0.592941   \n",
       "\n",
       "         V8        V9  ...       V21       V22       V23       V24       V25  \\\n",
       "0  0.098698  0.363787  ... -0.018307  0.277838 -0.110474  0.066928  0.128539   \n",
       "1  0.085102 -0.255425  ... -0.225775 -0.638672  0.101288 -0.339846  0.167170   \n",
       "2  0.247676 -1.514654  ...  0.247998  0.771679  0.909412 -0.689281 -0.327642   \n",
       "3  0.377436 -1.387024  ... -0.108300  0.005274 -0.190321 -1.175575  0.647376   \n",
       "4 -0.270533  0.817739  ... -0.009431  0.798278 -0.137458  0.141267 -0.206010   \n",
       "\n",
       "        V26       V27       V28  Amount  Class  \n",
       "0 -0.189115  0.133558 -0.021053  149.62      0  \n",
       "1  0.125895 -0.008983  0.014724    2.69      0  \n",
       "2 -0.139097 -0.055353 -0.059752  378.66      0  \n",
       "3 -0.221929  0.062723  0.061458  123.50      0  \n",
       "4  0.502292  0.219422  0.215153   69.99      0  \n",
       "\n",
       "[5 rows x 31 columns]"
      ]
     },
     "execution_count": 4,
     "metadata": {},
     "output_type": "execute_result"
    }
   ],
   "source": [
    "# First 5 rows of the dataset\n",
    "credit_card_data.head()"
   ]
  },
  {
   "cell_type": "code",
   "execution_count": 5,
   "id": "b87befb0",
   "metadata": {
    "execution": {
     "iopub.execute_input": "2023-10-10T14:59:15.317749Z",
     "iopub.status.busy": "2023-10-10T14:59:15.317325Z",
     "iopub.status.idle": "2023-10-10T14:59:15.343342Z",
     "shell.execute_reply": "2023-10-10T14:59:15.342340Z"
    },
    "papermill": {
     "duration": 0.037273,
     "end_time": "2023-10-10T14:59:15.345494",
     "exception": false,
     "start_time": "2023-10-10T14:59:15.308221",
     "status": "completed"
    },
    "tags": []
   },
   "outputs": [
    {
     "data": {
      "text/html": [
       "<div>\n",
       "<style scoped>\n",
       "    .dataframe tbody tr th:only-of-type {\n",
       "        vertical-align: middle;\n",
       "    }\n",
       "\n",
       "    .dataframe tbody tr th {\n",
       "        vertical-align: top;\n",
       "    }\n",
       "\n",
       "    .dataframe thead th {\n",
       "        text-align: right;\n",
       "    }\n",
       "</style>\n",
       "<table border=\"1\" class=\"dataframe\">\n",
       "  <thead>\n",
       "    <tr style=\"text-align: right;\">\n",
       "      <th></th>\n",
       "      <th>Time</th>\n",
       "      <th>V1</th>\n",
       "      <th>V2</th>\n",
       "      <th>V3</th>\n",
       "      <th>V4</th>\n",
       "      <th>V5</th>\n",
       "      <th>V6</th>\n",
       "      <th>V7</th>\n",
       "      <th>V8</th>\n",
       "      <th>V9</th>\n",
       "      <th>...</th>\n",
       "      <th>V21</th>\n",
       "      <th>V22</th>\n",
       "      <th>V23</th>\n",
       "      <th>V24</th>\n",
       "      <th>V25</th>\n",
       "      <th>V26</th>\n",
       "      <th>V27</th>\n",
       "      <th>V28</th>\n",
       "      <th>Amount</th>\n",
       "      <th>Class</th>\n",
       "    </tr>\n",
       "  </thead>\n",
       "  <tbody>\n",
       "    <tr>\n",
       "      <th>284802</th>\n",
       "      <td>172786.0</td>\n",
       "      <td>-11.881118</td>\n",
       "      <td>10.071785</td>\n",
       "      <td>-9.834783</td>\n",
       "      <td>-2.066656</td>\n",
       "      <td>-5.364473</td>\n",
       "      <td>-2.606837</td>\n",
       "      <td>-4.918215</td>\n",
       "      <td>7.305334</td>\n",
       "      <td>1.914428</td>\n",
       "      <td>...</td>\n",
       "      <td>0.213454</td>\n",
       "      <td>0.111864</td>\n",
       "      <td>1.014480</td>\n",
       "      <td>-0.509348</td>\n",
       "      <td>1.436807</td>\n",
       "      <td>0.250034</td>\n",
       "      <td>0.943651</td>\n",
       "      <td>0.823731</td>\n",
       "      <td>0.77</td>\n",
       "      <td>0</td>\n",
       "    </tr>\n",
       "    <tr>\n",
       "      <th>284803</th>\n",
       "      <td>172787.0</td>\n",
       "      <td>-0.732789</td>\n",
       "      <td>-0.055080</td>\n",
       "      <td>2.035030</td>\n",
       "      <td>-0.738589</td>\n",
       "      <td>0.868229</td>\n",
       "      <td>1.058415</td>\n",
       "      <td>0.024330</td>\n",
       "      <td>0.294869</td>\n",
       "      <td>0.584800</td>\n",
       "      <td>...</td>\n",
       "      <td>0.214205</td>\n",
       "      <td>0.924384</td>\n",
       "      <td>0.012463</td>\n",
       "      <td>-1.016226</td>\n",
       "      <td>-0.606624</td>\n",
       "      <td>-0.395255</td>\n",
       "      <td>0.068472</td>\n",
       "      <td>-0.053527</td>\n",
       "      <td>24.79</td>\n",
       "      <td>0</td>\n",
       "    </tr>\n",
       "    <tr>\n",
       "      <th>284804</th>\n",
       "      <td>172788.0</td>\n",
       "      <td>1.919565</td>\n",
       "      <td>-0.301254</td>\n",
       "      <td>-3.249640</td>\n",
       "      <td>-0.557828</td>\n",
       "      <td>2.630515</td>\n",
       "      <td>3.031260</td>\n",
       "      <td>-0.296827</td>\n",
       "      <td>0.708417</td>\n",
       "      <td>0.432454</td>\n",
       "      <td>...</td>\n",
       "      <td>0.232045</td>\n",
       "      <td>0.578229</td>\n",
       "      <td>-0.037501</td>\n",
       "      <td>0.640134</td>\n",
       "      <td>0.265745</td>\n",
       "      <td>-0.087371</td>\n",
       "      <td>0.004455</td>\n",
       "      <td>-0.026561</td>\n",
       "      <td>67.88</td>\n",
       "      <td>0</td>\n",
       "    </tr>\n",
       "    <tr>\n",
       "      <th>284805</th>\n",
       "      <td>172788.0</td>\n",
       "      <td>-0.240440</td>\n",
       "      <td>0.530483</td>\n",
       "      <td>0.702510</td>\n",
       "      <td>0.689799</td>\n",
       "      <td>-0.377961</td>\n",
       "      <td>0.623708</td>\n",
       "      <td>-0.686180</td>\n",
       "      <td>0.679145</td>\n",
       "      <td>0.392087</td>\n",
       "      <td>...</td>\n",
       "      <td>0.265245</td>\n",
       "      <td>0.800049</td>\n",
       "      <td>-0.163298</td>\n",
       "      <td>0.123205</td>\n",
       "      <td>-0.569159</td>\n",
       "      <td>0.546668</td>\n",
       "      <td>0.108821</td>\n",
       "      <td>0.104533</td>\n",
       "      <td>10.00</td>\n",
       "      <td>0</td>\n",
       "    </tr>\n",
       "    <tr>\n",
       "      <th>284806</th>\n",
       "      <td>172792.0</td>\n",
       "      <td>-0.533413</td>\n",
       "      <td>-0.189733</td>\n",
       "      <td>0.703337</td>\n",
       "      <td>-0.506271</td>\n",
       "      <td>-0.012546</td>\n",
       "      <td>-0.649617</td>\n",
       "      <td>1.577006</td>\n",
       "      <td>-0.414650</td>\n",
       "      <td>0.486180</td>\n",
       "      <td>...</td>\n",
       "      <td>0.261057</td>\n",
       "      <td>0.643078</td>\n",
       "      <td>0.376777</td>\n",
       "      <td>0.008797</td>\n",
       "      <td>-0.473649</td>\n",
       "      <td>-0.818267</td>\n",
       "      <td>-0.002415</td>\n",
       "      <td>0.013649</td>\n",
       "      <td>217.00</td>\n",
       "      <td>0</td>\n",
       "    </tr>\n",
       "  </tbody>\n",
       "</table>\n",
       "<p>5 rows × 31 columns</p>\n",
       "</div>"
      ],
      "text/plain": [
       "            Time         V1         V2        V3        V4        V5  \\\n",
       "284802  172786.0 -11.881118  10.071785 -9.834783 -2.066656 -5.364473   \n",
       "284803  172787.0  -0.732789  -0.055080  2.035030 -0.738589  0.868229   \n",
       "284804  172788.0   1.919565  -0.301254 -3.249640 -0.557828  2.630515   \n",
       "284805  172788.0  -0.240440   0.530483  0.702510  0.689799 -0.377961   \n",
       "284806  172792.0  -0.533413  -0.189733  0.703337 -0.506271 -0.012546   \n",
       "\n",
       "              V6        V7        V8        V9  ...       V21       V22  \\\n",
       "284802 -2.606837 -4.918215  7.305334  1.914428  ...  0.213454  0.111864   \n",
       "284803  1.058415  0.024330  0.294869  0.584800  ...  0.214205  0.924384   \n",
       "284804  3.031260 -0.296827  0.708417  0.432454  ...  0.232045  0.578229   \n",
       "284805  0.623708 -0.686180  0.679145  0.392087  ...  0.265245  0.800049   \n",
       "284806 -0.649617  1.577006 -0.414650  0.486180  ...  0.261057  0.643078   \n",
       "\n",
       "             V23       V24       V25       V26       V27       V28  Amount  \\\n",
       "284802  1.014480 -0.509348  1.436807  0.250034  0.943651  0.823731    0.77   \n",
       "284803  0.012463 -1.016226 -0.606624 -0.395255  0.068472 -0.053527   24.79   \n",
       "284804 -0.037501  0.640134  0.265745 -0.087371  0.004455 -0.026561   67.88   \n",
       "284805 -0.163298  0.123205 -0.569159  0.546668  0.108821  0.104533   10.00   \n",
       "284806  0.376777  0.008797 -0.473649 -0.818267 -0.002415  0.013649  217.00   \n",
       "\n",
       "        Class  \n",
       "284802      0  \n",
       "284803      0  \n",
       "284804      0  \n",
       "284805      0  \n",
       "284806      0  \n",
       "\n",
       "[5 rows x 31 columns]"
      ]
     },
     "execution_count": 5,
     "metadata": {},
     "output_type": "execute_result"
    }
   ],
   "source": [
    "credit_card_data.tail()"
   ]
  },
  {
   "cell_type": "code",
   "execution_count": 6,
   "id": "534e29ac",
   "metadata": {
    "execution": {
     "iopub.execute_input": "2023-10-10T14:59:15.364153Z",
     "iopub.status.busy": "2023-10-10T14:59:15.363804Z",
     "iopub.status.idle": "2023-10-10T14:59:15.367977Z",
     "shell.execute_reply": "2023-10-10T14:59:15.366901Z"
    },
    "papermill": {
     "duration": 0.015792,
     "end_time": "2023-10-10T14:59:15.370130",
     "exception": false,
     "start_time": "2023-10-10T14:59:15.354338",
     "status": "completed"
    },
    "tags": []
   },
   "outputs": [],
   "source": [
    "# We have transaction of almost 48hrs"
   ]
  },
  {
   "cell_type": "code",
   "execution_count": 7,
   "id": "4f81666f",
   "metadata": {
    "execution": {
     "iopub.execute_input": "2023-10-10T14:59:15.388201Z",
     "iopub.status.busy": "2023-10-10T14:59:15.387810Z",
     "iopub.status.idle": "2023-10-10T14:59:15.512947Z",
     "shell.execute_reply": "2023-10-10T14:59:15.511859Z"
    },
    "papermill": {
     "duration": 0.13694,
     "end_time": "2023-10-10T14:59:15.515518",
     "exception": false,
     "start_time": "2023-10-10T14:59:15.378578",
     "status": "completed"
    },
    "tags": []
   },
   "outputs": [
    {
     "name": "stdout",
     "output_type": "stream",
     "text": [
      "<class 'pandas.core.frame.DataFrame'>\n",
      "RangeIndex: 284807 entries, 0 to 284806\n",
      "Data columns (total 31 columns):\n",
      " #   Column  Non-Null Count   Dtype  \n",
      "---  ------  --------------   -----  \n",
      " 0   Time    284807 non-null  float64\n",
      " 1   V1      284807 non-null  float64\n",
      " 2   V2      284807 non-null  float64\n",
      " 3   V3      284807 non-null  float64\n",
      " 4   V4      284807 non-null  float64\n",
      " 5   V5      284807 non-null  float64\n",
      " 6   V6      284807 non-null  float64\n",
      " 7   V7      284807 non-null  float64\n",
      " 8   V8      284807 non-null  float64\n",
      " 9   V9      284807 non-null  float64\n",
      " 10  V10     284807 non-null  float64\n",
      " 11  V11     284807 non-null  float64\n",
      " 12  V12     284807 non-null  float64\n",
      " 13  V13     284807 non-null  float64\n",
      " 14  V14     284807 non-null  float64\n",
      " 15  V15     284807 non-null  float64\n",
      " 16  V16     284807 non-null  float64\n",
      " 17  V17     284807 non-null  float64\n",
      " 18  V18     284807 non-null  float64\n",
      " 19  V19     284807 non-null  float64\n",
      " 20  V20     284807 non-null  float64\n",
      " 21  V21     284807 non-null  float64\n",
      " 22  V22     284807 non-null  float64\n",
      " 23  V23     284807 non-null  float64\n",
      " 24  V24     284807 non-null  float64\n",
      " 25  V25     284807 non-null  float64\n",
      " 26  V26     284807 non-null  float64\n",
      " 27  V27     284807 non-null  float64\n",
      " 28  V28     284807 non-null  float64\n",
      " 29  Amount  284807 non-null  float64\n",
      " 30  Class   284807 non-null  int64  \n",
      "dtypes: float64(30), int64(1)\n",
      "memory usage: 67.4 MB\n"
     ]
    }
   ],
   "source": [
    "# Dataset Information\n",
    "credit_card_data.info()"
   ]
  },
  {
   "cell_type": "code",
   "execution_count": 8,
   "id": "892e4fcb",
   "metadata": {
    "execution": {
     "iopub.execute_input": "2023-10-10T14:59:15.534900Z",
     "iopub.status.busy": "2023-10-10T14:59:15.533808Z",
     "iopub.status.idle": "2023-10-10T14:59:15.555745Z",
     "shell.execute_reply": "2023-10-10T14:59:15.554638Z"
    },
    "papermill": {
     "duration": 0.034079,
     "end_time": "2023-10-10T14:59:15.558088",
     "exception": false,
     "start_time": "2023-10-10T14:59:15.524009",
     "status": "completed"
    },
    "tags": []
   },
   "outputs": [
    {
     "data": {
      "text/plain": [
       "Time      0\n",
       "V1        0\n",
       "V2        0\n",
       "V3        0\n",
       "V4        0\n",
       "V5        0\n",
       "V6        0\n",
       "V7        0\n",
       "V8        0\n",
       "V9        0\n",
       "V10       0\n",
       "V11       0\n",
       "V12       0\n",
       "V13       0\n",
       "V14       0\n",
       "V15       0\n",
       "V16       0\n",
       "V17       0\n",
       "V18       0\n",
       "V19       0\n",
       "V20       0\n",
       "V21       0\n",
       "V22       0\n",
       "V23       0\n",
       "V24       0\n",
       "V25       0\n",
       "V26       0\n",
       "V27       0\n",
       "V28       0\n",
       "Amount    0\n",
       "Class     0\n",
       "dtype: int64"
      ]
     },
     "execution_count": 8,
     "metadata": {},
     "output_type": "execute_result"
    }
   ],
   "source": [
    "# we dont have any null values\n",
    "\n",
    "# Checking the no. of missing values in each column\n",
    "credit_card_data.isnull().sum()"
   ]
  },
  {
   "cell_type": "code",
   "execution_count": 9,
   "id": "00550532",
   "metadata": {
    "execution": {
     "iopub.execute_input": "2023-10-10T14:59:15.576140Z",
     "iopub.status.busy": "2023-10-10T14:59:15.575759Z",
     "iopub.status.idle": "2023-10-10T14:59:15.586315Z",
     "shell.execute_reply": "2023-10-10T14:59:15.585197Z"
    },
    "papermill": {
     "duration": 0.02212,
     "end_time": "2023-10-10T14:59:15.588488",
     "exception": false,
     "start_time": "2023-10-10T14:59:15.566368",
     "status": "completed"
    },
    "tags": []
   },
   "outputs": [
    {
     "data": {
      "text/plain": [
       "Class\n",
       "0    284315\n",
       "1       492\n",
       "Name: count, dtype: int64"
      ]
     },
     "execution_count": 9,
     "metadata": {},
     "output_type": "execute_result"
    }
   ],
   "source": [
    "# distribution of the legit transaction and fradulent transaction\n",
    "credit_card_data['Class'].value_counts()"
   ]
  },
  {
   "cell_type": "code",
   "execution_count": 10,
   "id": "b5ce56a7",
   "metadata": {
    "execution": {
     "iopub.execute_input": "2023-10-10T14:59:15.607319Z",
     "iopub.status.busy": "2023-10-10T14:59:15.606936Z",
     "iopub.status.idle": "2023-10-10T14:59:15.611364Z",
     "shell.execute_reply": "2023-10-10T14:59:15.610169Z"
    },
    "papermill": {
     "duration": 0.016413,
     "end_time": "2023-10-10T14:59:15.613396",
     "exception": false,
     "start_time": "2023-10-10T14:59:15.596983",
     "status": "completed"
    },
    "tags": []
   },
   "outputs": [],
   "source": [
    "# 0 --> normal transaction\n",
    "# 1 --> fradulent transaction\n",
    "# As we can see more than 95% of the data is legit ,therefore, we cant train our model with this unbalanced dataset\n"
   ]
  },
  {
   "cell_type": "code",
   "execution_count": 11,
   "id": "1e16902c",
   "metadata": {
    "execution": {
     "iopub.execute_input": "2023-10-10T14:59:15.631953Z",
     "iopub.status.busy": "2023-10-10T14:59:15.631617Z",
     "iopub.status.idle": "2023-10-10T14:59:15.682101Z",
     "shell.execute_reply": "2023-10-10T14:59:15.680908Z"
    },
    "papermill": {
     "duration": 0.062617,
     "end_time": "2023-10-10T14:59:15.684619",
     "exception": false,
     "start_time": "2023-10-10T14:59:15.622002",
     "status": "completed"
    },
    "tags": []
   },
   "outputs": [],
   "source": [
    "# Separating the data for analysis\n",
    "\n",
    "legit= credit_card_data[credit_card_data.Class == 0]\n",
    "fraudulent= credit_card_data[credit_card_data.Class == 1]\n",
    "\n"
   ]
  },
  {
   "cell_type": "code",
   "execution_count": 12,
   "id": "c7838df9",
   "metadata": {
    "execution": {
     "iopub.execute_input": "2023-10-10T14:59:15.703224Z",
     "iopub.status.busy": "2023-10-10T14:59:15.702845Z",
     "iopub.status.idle": "2023-10-10T14:59:15.708023Z",
     "shell.execute_reply": "2023-10-10T14:59:15.707003Z"
    },
    "papermill": {
     "duration": 0.017058,
     "end_time": "2023-10-10T14:59:15.710288",
     "exception": false,
     "start_time": "2023-10-10T14:59:15.693230",
     "status": "completed"
    },
    "tags": []
   },
   "outputs": [
    {
     "name": "stdout",
     "output_type": "stream",
     "text": [
      "(284315, 31)\n",
      "(492, 31)\n"
     ]
    }
   ],
   "source": [
    "print(legit.shape)\n",
    "print(fraudulent.shape)"
   ]
  },
  {
   "cell_type": "code",
   "execution_count": 13,
   "id": "765bf265",
   "metadata": {
    "execution": {
     "iopub.execute_input": "2023-10-10T14:59:15.729386Z",
     "iopub.status.busy": "2023-10-10T14:59:15.728761Z",
     "iopub.status.idle": "2023-10-10T14:59:15.751972Z",
     "shell.execute_reply": "2023-10-10T14:59:15.750671Z"
    },
    "papermill": {
     "duration": 0.035253,
     "end_time": "2023-10-10T14:59:15.754246",
     "exception": false,
     "start_time": "2023-10-10T14:59:15.718993",
     "status": "completed"
    },
    "tags": []
   },
   "outputs": [
    {
     "data": {
      "text/plain": [
       "count    284315.000000\n",
       "mean         88.291022\n",
       "std         250.105092\n",
       "min           0.000000\n",
       "25%           5.650000\n",
       "50%          22.000000\n",
       "75%          77.050000\n",
       "max       25691.160000\n",
       "Name: Amount, dtype: float64"
      ]
     },
     "execution_count": 13,
     "metadata": {},
     "output_type": "execute_result"
    }
   ],
   "source": [
    "# Statistical measures of the data\n",
    "legit.Amount.describe()"
   ]
  },
  {
   "cell_type": "code",
   "execution_count": 14,
   "id": "87d831a7",
   "metadata": {
    "execution": {
     "iopub.execute_input": "2023-10-10T14:59:15.772788Z",
     "iopub.status.busy": "2023-10-10T14:59:15.772427Z",
     "iopub.status.idle": "2023-10-10T14:59:15.782733Z",
     "shell.execute_reply": "2023-10-10T14:59:15.781728Z"
    },
    "papermill": {
     "duration": 0.021911,
     "end_time": "2023-10-10T14:59:15.784872",
     "exception": false,
     "start_time": "2023-10-10T14:59:15.762961",
     "status": "completed"
    },
    "tags": []
   },
   "outputs": [
    {
     "data": {
      "text/plain": [
       "count     492.000000\n",
       "mean      122.211321\n",
       "std       256.683288\n",
       "min         0.000000\n",
       "25%         1.000000\n",
       "50%         9.250000\n",
       "75%       105.890000\n",
       "max      2125.870000\n",
       "Name: Amount, dtype: float64"
      ]
     },
     "execution_count": 14,
     "metadata": {},
     "output_type": "execute_result"
    }
   ],
   "source": [
    "fraudulent.Amount.describe()"
   ]
  },
  {
   "cell_type": "code",
   "execution_count": 15,
   "id": "91fde3da",
   "metadata": {
    "execution": {
     "iopub.execute_input": "2023-10-10T14:59:15.803636Z",
     "iopub.status.busy": "2023-10-10T14:59:15.803308Z",
     "iopub.status.idle": "2023-10-10T14:59:15.906210Z",
     "shell.execute_reply": "2023-10-10T14:59:15.904972Z"
    },
    "papermill": {
     "duration": 0.115129,
     "end_time": "2023-10-10T14:59:15.908682",
     "exception": false,
     "start_time": "2023-10-10T14:59:15.793553",
     "status": "completed"
    },
    "tags": []
   },
   "outputs": [
    {
     "data": {
      "text/html": [
       "<div>\n",
       "<style scoped>\n",
       "    .dataframe tbody tr th:only-of-type {\n",
       "        vertical-align: middle;\n",
       "    }\n",
       "\n",
       "    .dataframe tbody tr th {\n",
       "        vertical-align: top;\n",
       "    }\n",
       "\n",
       "    .dataframe thead th {\n",
       "        text-align: right;\n",
       "    }\n",
       "</style>\n",
       "<table border=\"1\" class=\"dataframe\">\n",
       "  <thead>\n",
       "    <tr style=\"text-align: right;\">\n",
       "      <th></th>\n",
       "      <th>Time</th>\n",
       "      <th>V1</th>\n",
       "      <th>V2</th>\n",
       "      <th>V3</th>\n",
       "      <th>V4</th>\n",
       "      <th>V5</th>\n",
       "      <th>V6</th>\n",
       "      <th>V7</th>\n",
       "      <th>V8</th>\n",
       "      <th>V9</th>\n",
       "      <th>...</th>\n",
       "      <th>V20</th>\n",
       "      <th>V21</th>\n",
       "      <th>V22</th>\n",
       "      <th>V23</th>\n",
       "      <th>V24</th>\n",
       "      <th>V25</th>\n",
       "      <th>V26</th>\n",
       "      <th>V27</th>\n",
       "      <th>V28</th>\n",
       "      <th>Amount</th>\n",
       "    </tr>\n",
       "    <tr>\n",
       "      <th>Class</th>\n",
       "      <th></th>\n",
       "      <th></th>\n",
       "      <th></th>\n",
       "      <th></th>\n",
       "      <th></th>\n",
       "      <th></th>\n",
       "      <th></th>\n",
       "      <th></th>\n",
       "      <th></th>\n",
       "      <th></th>\n",
       "      <th></th>\n",
       "      <th></th>\n",
       "      <th></th>\n",
       "      <th></th>\n",
       "      <th></th>\n",
       "      <th></th>\n",
       "      <th></th>\n",
       "      <th></th>\n",
       "      <th></th>\n",
       "      <th></th>\n",
       "      <th></th>\n",
       "    </tr>\n",
       "  </thead>\n",
       "  <tbody>\n",
       "    <tr>\n",
       "      <th>0</th>\n",
       "      <td>94838.202258</td>\n",
       "      <td>0.008258</td>\n",
       "      <td>-0.006271</td>\n",
       "      <td>0.012171</td>\n",
       "      <td>-0.007860</td>\n",
       "      <td>0.005453</td>\n",
       "      <td>0.002419</td>\n",
       "      <td>0.009637</td>\n",
       "      <td>-0.000987</td>\n",
       "      <td>0.004467</td>\n",
       "      <td>...</td>\n",
       "      <td>-0.000644</td>\n",
       "      <td>-0.001235</td>\n",
       "      <td>-0.000024</td>\n",
       "      <td>0.000070</td>\n",
       "      <td>0.000182</td>\n",
       "      <td>-0.000072</td>\n",
       "      <td>-0.000089</td>\n",
       "      <td>-0.000295</td>\n",
       "      <td>-0.000131</td>\n",
       "      <td>88.291022</td>\n",
       "    </tr>\n",
       "    <tr>\n",
       "      <th>1</th>\n",
       "      <td>80746.806911</td>\n",
       "      <td>-4.771948</td>\n",
       "      <td>3.623778</td>\n",
       "      <td>-7.033281</td>\n",
       "      <td>4.542029</td>\n",
       "      <td>-3.151225</td>\n",
       "      <td>-1.397737</td>\n",
       "      <td>-5.568731</td>\n",
       "      <td>0.570636</td>\n",
       "      <td>-2.581123</td>\n",
       "      <td>...</td>\n",
       "      <td>0.372319</td>\n",
       "      <td>0.713588</td>\n",
       "      <td>0.014049</td>\n",
       "      <td>-0.040308</td>\n",
       "      <td>-0.105130</td>\n",
       "      <td>0.041449</td>\n",
       "      <td>0.051648</td>\n",
       "      <td>0.170575</td>\n",
       "      <td>0.075667</td>\n",
       "      <td>122.211321</td>\n",
       "    </tr>\n",
       "  </tbody>\n",
       "</table>\n",
       "<p>2 rows × 30 columns</p>\n",
       "</div>"
      ],
      "text/plain": [
       "               Time        V1        V2        V3        V4        V5  \\\n",
       "Class                                                                   \n",
       "0      94838.202258  0.008258 -0.006271  0.012171 -0.007860  0.005453   \n",
       "1      80746.806911 -4.771948  3.623778 -7.033281  4.542029 -3.151225   \n",
       "\n",
       "             V6        V7        V8        V9  ...       V20       V21  \\\n",
       "Class                                          ...                       \n",
       "0      0.002419  0.009637 -0.000987  0.004467  ... -0.000644 -0.001235   \n",
       "1     -1.397737 -5.568731  0.570636 -2.581123  ...  0.372319  0.713588   \n",
       "\n",
       "            V22       V23       V24       V25       V26       V27       V28  \\\n",
       "Class                                                                         \n",
       "0     -0.000024  0.000070  0.000182 -0.000072 -0.000089 -0.000295 -0.000131   \n",
       "1      0.014049 -0.040308 -0.105130  0.041449  0.051648  0.170575  0.075667   \n",
       "\n",
       "           Amount  \n",
       "Class              \n",
       "0       88.291022  \n",
       "1      122.211321  \n",
       "\n",
       "[2 rows x 30 columns]"
      ]
     },
     "execution_count": 15,
     "metadata": {},
     "output_type": "execute_result"
    }
   ],
   "source": [
    "# Compare the values of both of these transactions (mean)\n",
    "\n",
    "credit_card_data.groupby('Class').mean()"
   ]
  },
  {
   "cell_type": "code",
   "execution_count": 16,
   "id": "fab2c0d9",
   "metadata": {
    "execution": {
     "iopub.execute_input": "2023-10-10T14:59:15.928579Z",
     "iopub.status.busy": "2023-10-10T14:59:15.928220Z",
     "iopub.status.idle": "2023-10-10T14:59:15.932334Z",
     "shell.execute_reply": "2023-10-10T14:59:15.931337Z"
    },
    "papermill": {
     "duration": 0.016439,
     "end_time": "2023-10-10T14:59:15.934329",
     "exception": false,
     "start_time": "2023-10-10T14:59:15.917890",
     "status": "completed"
    },
    "tags": []
   },
   "outputs": [],
   "source": [
    "# This difference is very important as it says a lot about legit and fraudulent transaction\n",
    "\n",
    "# Dealing  with this unbalanced data---> using Under Sampling"
   ]
  },
  {
   "cell_type": "markdown",
   "id": "6e7e9b74",
   "metadata": {
    "papermill": {
     "duration": 0.008331,
     "end_time": "2023-10-10T14:59:15.951548",
     "exception": false,
     "start_time": "2023-10-10T14:59:15.943217",
     "status": "completed"
    },
    "tags": []
   },
   "source": [
    "#  Under Sampling"
   ]
  },
  {
   "cell_type": "markdown",
   "id": "1aa47978",
   "metadata": {
    "papermill": {
     "duration": 0.008418,
     "end_time": "2023-10-10T14:59:15.968965",
     "exception": false,
     "start_time": "2023-10-10T14:59:15.960547",
     "status": "completed"
    },
    "tags": []
   },
   "source": [
    "Undersampling is a technique to balance uneven datasets by keeping all of the data in the minority class and decreasing the size of the majority class."
   ]
  },
  {
   "cell_type": "code",
   "execution_count": 17,
   "id": "9ce39e99",
   "metadata": {
    "execution": {
     "iopub.execute_input": "2023-10-10T14:59:16.056276Z",
     "iopub.status.busy": "2023-10-10T14:59:16.055914Z",
     "iopub.status.idle": "2023-10-10T14:59:16.060221Z",
     "shell.execute_reply": "2023-10-10T14:59:16.059020Z"
    },
    "papermill": {
     "duration": 0.017669,
     "end_time": "2023-10-10T14:59:16.062628",
     "exception": false,
     "start_time": "2023-10-10T14:59:16.044959",
     "status": "completed"
    },
    "tags": []
   },
   "outputs": [],
   "source": [
    "# Build a sample dataset containing similar distribution of normal transactions and fraudulent transactions\n",
    "\n",
    "# Number of fraudulent transactions -> 492\n",
    "# Taking 492 normal transactions\n",
    "\n"
   ]
  },
  {
   "cell_type": "code",
   "execution_count": 18,
   "id": "8b205ac6",
   "metadata": {
    "execution": {
     "iopub.execute_input": "2023-10-10T14:59:16.083273Z",
     "iopub.status.busy": "2023-10-10T14:59:16.082928Z",
     "iopub.status.idle": "2023-10-10T14:59:16.095541Z",
     "shell.execute_reply": "2023-10-10T14:59:16.094548Z"
    },
    "papermill": {
     "duration": 0.025869,
     "end_time": "2023-10-10T14:59:16.097856",
     "exception": false,
     "start_time": "2023-10-10T14:59:16.071987",
     "status": "completed"
    },
    "tags": []
   },
   "outputs": [],
   "source": [
    "legit_sample=legit.sample(n=492)"
   ]
  },
  {
   "cell_type": "code",
   "execution_count": 19,
   "id": "b5f3bef1",
   "metadata": {
    "execution": {
     "iopub.execute_input": "2023-10-10T14:59:16.118009Z",
     "iopub.status.busy": "2023-10-10T14:59:16.117039Z",
     "iopub.status.idle": "2023-10-10T14:59:16.123817Z",
     "shell.execute_reply": "2023-10-10T14:59:16.122762Z"
    },
    "papermill": {
     "duration": 0.019353,
     "end_time": "2023-10-10T14:59:16.126238",
     "exception": false,
     "start_time": "2023-10-10T14:59:16.106885",
     "status": "completed"
    },
    "tags": []
   },
   "outputs": [],
   "source": [
    "# Concatenating two dataframes\n",
    "new_dataset=pd.concat([legit_sample,fraudulent],axis=0) # axis=0 means the legit_sample data will be added below fraudulent dataset "
   ]
  },
  {
   "cell_type": "code",
   "execution_count": 20,
   "id": "acf72bef",
   "metadata": {
    "execution": {
     "iopub.execute_input": "2023-10-10T14:59:16.146604Z",
     "iopub.status.busy": "2023-10-10T14:59:16.145580Z",
     "iopub.status.idle": "2023-10-10T14:59:16.167649Z",
     "shell.execute_reply": "2023-10-10T14:59:16.166528Z"
    },
    "papermill": {
     "duration": 0.034467,
     "end_time": "2023-10-10T14:59:16.169784",
     "exception": false,
     "start_time": "2023-10-10T14:59:16.135317",
     "status": "completed"
    },
    "tags": []
   },
   "outputs": [
    {
     "data": {
      "text/html": [
       "<div>\n",
       "<style scoped>\n",
       "    .dataframe tbody tr th:only-of-type {\n",
       "        vertical-align: middle;\n",
       "    }\n",
       "\n",
       "    .dataframe tbody tr th {\n",
       "        vertical-align: top;\n",
       "    }\n",
       "\n",
       "    .dataframe thead th {\n",
       "        text-align: right;\n",
       "    }\n",
       "</style>\n",
       "<table border=\"1\" class=\"dataframe\">\n",
       "  <thead>\n",
       "    <tr style=\"text-align: right;\">\n",
       "      <th></th>\n",
       "      <th>Time</th>\n",
       "      <th>V1</th>\n",
       "      <th>V2</th>\n",
       "      <th>V3</th>\n",
       "      <th>V4</th>\n",
       "      <th>V5</th>\n",
       "      <th>V6</th>\n",
       "      <th>V7</th>\n",
       "      <th>V8</th>\n",
       "      <th>V9</th>\n",
       "      <th>...</th>\n",
       "      <th>V21</th>\n",
       "      <th>V22</th>\n",
       "      <th>V23</th>\n",
       "      <th>V24</th>\n",
       "      <th>V25</th>\n",
       "      <th>V26</th>\n",
       "      <th>V27</th>\n",
       "      <th>V28</th>\n",
       "      <th>Amount</th>\n",
       "      <th>Class</th>\n",
       "    </tr>\n",
       "  </thead>\n",
       "  <tbody>\n",
       "    <tr>\n",
       "      <th>56061</th>\n",
       "      <td>47254.0</td>\n",
       "      <td>-2.974873</td>\n",
       "      <td>1.457139</td>\n",
       "      <td>0.148255</td>\n",
       "      <td>-0.003010</td>\n",
       "      <td>0.453021</td>\n",
       "      <td>1.165933</td>\n",
       "      <td>0.634210</td>\n",
       "      <td>-0.145641</td>\n",
       "      <td>1.288455</td>\n",
       "      <td>...</td>\n",
       "      <td>-0.297367</td>\n",
       "      <td>-0.238508</td>\n",
       "      <td>-0.011785</td>\n",
       "      <td>-1.365407</td>\n",
       "      <td>-0.187416</td>\n",
       "      <td>-0.697407</td>\n",
       "      <td>-1.401961</td>\n",
       "      <td>0.085688</td>\n",
       "      <td>53.91</td>\n",
       "      <td>0</td>\n",
       "    </tr>\n",
       "    <tr>\n",
       "      <th>138508</th>\n",
       "      <td>82683.0</td>\n",
       "      <td>1.272549</td>\n",
       "      <td>-0.424212</td>\n",
       "      <td>0.365301</td>\n",
       "      <td>-1.454539</td>\n",
       "      <td>-0.887417</td>\n",
       "      <td>-0.948320</td>\n",
       "      <td>-0.342555</td>\n",
       "      <td>-0.150394</td>\n",
       "      <td>1.473038</td>\n",
       "      <td>...</td>\n",
       "      <td>-0.083474</td>\n",
       "      <td>-0.198086</td>\n",
       "      <td>-0.043203</td>\n",
       "      <td>-0.081905</td>\n",
       "      <td>0.339594</td>\n",
       "      <td>-0.056287</td>\n",
       "      <td>0.015566</td>\n",
       "      <td>0.024920</td>\n",
       "      <td>34.67</td>\n",
       "      <td>0</td>\n",
       "    </tr>\n",
       "    <tr>\n",
       "      <th>258830</th>\n",
       "      <td>158843.0</td>\n",
       "      <td>0.093821</td>\n",
       "      <td>-3.190367</td>\n",
       "      <td>-1.110399</td>\n",
       "      <td>2.657262</td>\n",
       "      <td>-1.474484</td>\n",
       "      <td>0.111049</td>\n",
       "      <td>0.731809</td>\n",
       "      <td>-0.328899</td>\n",
       "      <td>-0.428092</td>\n",
       "      <td>...</td>\n",
       "      <td>0.704893</td>\n",
       "      <td>-0.130920</td>\n",
       "      <td>-0.586126</td>\n",
       "      <td>0.062797</td>\n",
       "      <td>-1.069012</td>\n",
       "      <td>2.138121</td>\n",
       "      <td>-0.340645</td>\n",
       "      <td>0.106709</td>\n",
       "      <td>987.21</td>\n",
       "      <td>0</td>\n",
       "    </tr>\n",
       "    <tr>\n",
       "      <th>66454</th>\n",
       "      <td>52062.0</td>\n",
       "      <td>0.078032</td>\n",
       "      <td>-2.986649</td>\n",
       "      <td>0.428191</td>\n",
       "      <td>0.198944</td>\n",
       "      <td>-2.371570</td>\n",
       "      <td>-0.129823</td>\n",
       "      <td>-0.339217</td>\n",
       "      <td>-0.043413</td>\n",
       "      <td>0.256252</td>\n",
       "      <td>...</td>\n",
       "      <td>0.382944</td>\n",
       "      <td>-0.269018</td>\n",
       "      <td>-0.552980</td>\n",
       "      <td>0.425274</td>\n",
       "      <td>0.099086</td>\n",
       "      <td>-0.309938</td>\n",
       "      <td>-0.078049</td>\n",
       "      <td>0.136290</td>\n",
       "      <td>663.20</td>\n",
       "      <td>0</td>\n",
       "    </tr>\n",
       "    <tr>\n",
       "      <th>130928</th>\n",
       "      <td>79461.0</td>\n",
       "      <td>1.175316</td>\n",
       "      <td>-0.652573</td>\n",
       "      <td>1.394370</td>\n",
       "      <td>0.670637</td>\n",
       "      <td>-1.407501</td>\n",
       "      <td>0.526586</td>\n",
       "      <td>-1.239771</td>\n",
       "      <td>0.423979</td>\n",
       "      <td>-0.321673</td>\n",
       "      <td>...</td>\n",
       "      <td>-0.351600</td>\n",
       "      <td>-0.383497</td>\n",
       "      <td>0.144630</td>\n",
       "      <td>0.156963</td>\n",
       "      <td>0.130978</td>\n",
       "      <td>-0.387221</td>\n",
       "      <td>0.103822</td>\n",
       "      <td>0.027655</td>\n",
       "      <td>1.00</td>\n",
       "      <td>0</td>\n",
       "    </tr>\n",
       "  </tbody>\n",
       "</table>\n",
       "<p>5 rows × 31 columns</p>\n",
       "</div>"
      ],
      "text/plain": [
       "            Time        V1        V2        V3        V4        V5        V6  \\\n",
       "56061    47254.0 -2.974873  1.457139  0.148255 -0.003010  0.453021  1.165933   \n",
       "138508   82683.0  1.272549 -0.424212  0.365301 -1.454539 -0.887417 -0.948320   \n",
       "258830  158843.0  0.093821 -3.190367 -1.110399  2.657262 -1.474484  0.111049   \n",
       "66454    52062.0  0.078032 -2.986649  0.428191  0.198944 -2.371570 -0.129823   \n",
       "130928   79461.0  1.175316 -0.652573  1.394370  0.670637 -1.407501  0.526586   \n",
       "\n",
       "              V7        V8        V9  ...       V21       V22       V23  \\\n",
       "56061   0.634210 -0.145641  1.288455  ... -0.297367 -0.238508 -0.011785   \n",
       "138508 -0.342555 -0.150394  1.473038  ... -0.083474 -0.198086 -0.043203   \n",
       "258830  0.731809 -0.328899 -0.428092  ...  0.704893 -0.130920 -0.586126   \n",
       "66454  -0.339217 -0.043413  0.256252  ...  0.382944 -0.269018 -0.552980   \n",
       "130928 -1.239771  0.423979 -0.321673  ... -0.351600 -0.383497  0.144630   \n",
       "\n",
       "             V24       V25       V26       V27       V28  Amount  Class  \n",
       "56061  -1.365407 -0.187416 -0.697407 -1.401961  0.085688   53.91      0  \n",
       "138508 -0.081905  0.339594 -0.056287  0.015566  0.024920   34.67      0  \n",
       "258830  0.062797 -1.069012  2.138121 -0.340645  0.106709  987.21      0  \n",
       "66454   0.425274  0.099086 -0.309938 -0.078049  0.136290  663.20      0  \n",
       "130928  0.156963  0.130978 -0.387221  0.103822  0.027655    1.00      0  \n",
       "\n",
       "[5 rows x 31 columns]"
      ]
     },
     "execution_count": 20,
     "metadata": {},
     "output_type": "execute_result"
    }
   ],
   "source": [
    "new_dataset.head()"
   ]
  },
  {
   "cell_type": "code",
   "execution_count": 21,
   "id": "f03b81d0",
   "metadata": {
    "execution": {
     "iopub.execute_input": "2023-10-10T14:59:16.190593Z",
     "iopub.status.busy": "2023-10-10T14:59:16.190018Z",
     "iopub.status.idle": "2023-10-10T14:59:16.211163Z",
     "shell.execute_reply": "2023-10-10T14:59:16.210013Z"
    },
    "papermill": {
     "duration": 0.034046,
     "end_time": "2023-10-10T14:59:16.213320",
     "exception": false,
     "start_time": "2023-10-10T14:59:16.179274",
     "status": "completed"
    },
    "tags": []
   },
   "outputs": [
    {
     "data": {
      "text/html": [
       "<div>\n",
       "<style scoped>\n",
       "    .dataframe tbody tr th:only-of-type {\n",
       "        vertical-align: middle;\n",
       "    }\n",
       "\n",
       "    .dataframe tbody tr th {\n",
       "        vertical-align: top;\n",
       "    }\n",
       "\n",
       "    .dataframe thead th {\n",
       "        text-align: right;\n",
       "    }\n",
       "</style>\n",
       "<table border=\"1\" class=\"dataframe\">\n",
       "  <thead>\n",
       "    <tr style=\"text-align: right;\">\n",
       "      <th></th>\n",
       "      <th>Time</th>\n",
       "      <th>V1</th>\n",
       "      <th>V2</th>\n",
       "      <th>V3</th>\n",
       "      <th>V4</th>\n",
       "      <th>V5</th>\n",
       "      <th>V6</th>\n",
       "      <th>V7</th>\n",
       "      <th>V8</th>\n",
       "      <th>V9</th>\n",
       "      <th>...</th>\n",
       "      <th>V21</th>\n",
       "      <th>V22</th>\n",
       "      <th>V23</th>\n",
       "      <th>V24</th>\n",
       "      <th>V25</th>\n",
       "      <th>V26</th>\n",
       "      <th>V27</th>\n",
       "      <th>V28</th>\n",
       "      <th>Amount</th>\n",
       "      <th>Class</th>\n",
       "    </tr>\n",
       "  </thead>\n",
       "  <tbody>\n",
       "    <tr>\n",
       "      <th>279863</th>\n",
       "      <td>169142.0</td>\n",
       "      <td>-1.927883</td>\n",
       "      <td>1.125653</td>\n",
       "      <td>-4.518331</td>\n",
       "      <td>1.749293</td>\n",
       "      <td>-1.566487</td>\n",
       "      <td>-2.010494</td>\n",
       "      <td>-0.882850</td>\n",
       "      <td>0.697211</td>\n",
       "      <td>-2.064945</td>\n",
       "      <td>...</td>\n",
       "      <td>0.778584</td>\n",
       "      <td>-0.319189</td>\n",
       "      <td>0.639419</td>\n",
       "      <td>-0.294885</td>\n",
       "      <td>0.537503</td>\n",
       "      <td>0.788395</td>\n",
       "      <td>0.292680</td>\n",
       "      <td>0.147968</td>\n",
       "      <td>390.00</td>\n",
       "      <td>1</td>\n",
       "    </tr>\n",
       "    <tr>\n",
       "      <th>280143</th>\n",
       "      <td>169347.0</td>\n",
       "      <td>1.378559</td>\n",
       "      <td>1.289381</td>\n",
       "      <td>-5.004247</td>\n",
       "      <td>1.411850</td>\n",
       "      <td>0.442581</td>\n",
       "      <td>-1.326536</td>\n",
       "      <td>-1.413170</td>\n",
       "      <td>0.248525</td>\n",
       "      <td>-1.127396</td>\n",
       "      <td>...</td>\n",
       "      <td>0.370612</td>\n",
       "      <td>0.028234</td>\n",
       "      <td>-0.145640</td>\n",
       "      <td>-0.081049</td>\n",
       "      <td>0.521875</td>\n",
       "      <td>0.739467</td>\n",
       "      <td>0.389152</td>\n",
       "      <td>0.186637</td>\n",
       "      <td>0.76</td>\n",
       "      <td>1</td>\n",
       "    </tr>\n",
       "    <tr>\n",
       "      <th>280149</th>\n",
       "      <td>169351.0</td>\n",
       "      <td>-0.676143</td>\n",
       "      <td>1.126366</td>\n",
       "      <td>-2.213700</td>\n",
       "      <td>0.468308</td>\n",
       "      <td>-1.120541</td>\n",
       "      <td>-0.003346</td>\n",
       "      <td>-2.234739</td>\n",
       "      <td>1.210158</td>\n",
       "      <td>-0.652250</td>\n",
       "      <td>...</td>\n",
       "      <td>0.751826</td>\n",
       "      <td>0.834108</td>\n",
       "      <td>0.190944</td>\n",
       "      <td>0.032070</td>\n",
       "      <td>-0.739695</td>\n",
       "      <td>0.471111</td>\n",
       "      <td>0.385107</td>\n",
       "      <td>0.194361</td>\n",
       "      <td>77.89</td>\n",
       "      <td>1</td>\n",
       "    </tr>\n",
       "    <tr>\n",
       "      <th>281144</th>\n",
       "      <td>169966.0</td>\n",
       "      <td>-3.113832</td>\n",
       "      <td>0.585864</td>\n",
       "      <td>-5.399730</td>\n",
       "      <td>1.817092</td>\n",
       "      <td>-0.840618</td>\n",
       "      <td>-2.943548</td>\n",
       "      <td>-2.208002</td>\n",
       "      <td>1.058733</td>\n",
       "      <td>-1.632333</td>\n",
       "      <td>...</td>\n",
       "      <td>0.583276</td>\n",
       "      <td>-0.269209</td>\n",
       "      <td>-0.456108</td>\n",
       "      <td>-0.183659</td>\n",
       "      <td>-0.328168</td>\n",
       "      <td>0.606116</td>\n",
       "      <td>0.884876</td>\n",
       "      <td>-0.253700</td>\n",
       "      <td>245.00</td>\n",
       "      <td>1</td>\n",
       "    </tr>\n",
       "    <tr>\n",
       "      <th>281674</th>\n",
       "      <td>170348.0</td>\n",
       "      <td>1.991976</td>\n",
       "      <td>0.158476</td>\n",
       "      <td>-2.583441</td>\n",
       "      <td>0.408670</td>\n",
       "      <td>1.151147</td>\n",
       "      <td>-0.096695</td>\n",
       "      <td>0.223050</td>\n",
       "      <td>-0.068384</td>\n",
       "      <td>0.577829</td>\n",
       "      <td>...</td>\n",
       "      <td>-0.164350</td>\n",
       "      <td>-0.295135</td>\n",
       "      <td>-0.072173</td>\n",
       "      <td>-0.450261</td>\n",
       "      <td>0.313267</td>\n",
       "      <td>-0.289617</td>\n",
       "      <td>0.002988</td>\n",
       "      <td>-0.015309</td>\n",
       "      <td>42.53</td>\n",
       "      <td>1</td>\n",
       "    </tr>\n",
       "  </tbody>\n",
       "</table>\n",
       "<p>5 rows × 31 columns</p>\n",
       "</div>"
      ],
      "text/plain": [
       "            Time        V1        V2        V3        V4        V5        V6  \\\n",
       "279863  169142.0 -1.927883  1.125653 -4.518331  1.749293 -1.566487 -2.010494   \n",
       "280143  169347.0  1.378559  1.289381 -5.004247  1.411850  0.442581 -1.326536   \n",
       "280149  169351.0 -0.676143  1.126366 -2.213700  0.468308 -1.120541 -0.003346   \n",
       "281144  169966.0 -3.113832  0.585864 -5.399730  1.817092 -0.840618 -2.943548   \n",
       "281674  170348.0  1.991976  0.158476 -2.583441  0.408670  1.151147 -0.096695   \n",
       "\n",
       "              V7        V8        V9  ...       V21       V22       V23  \\\n",
       "279863 -0.882850  0.697211 -2.064945  ...  0.778584 -0.319189  0.639419   \n",
       "280143 -1.413170  0.248525 -1.127396  ...  0.370612  0.028234 -0.145640   \n",
       "280149 -2.234739  1.210158 -0.652250  ...  0.751826  0.834108  0.190944   \n",
       "281144 -2.208002  1.058733 -1.632333  ...  0.583276 -0.269209 -0.456108   \n",
       "281674  0.223050 -0.068384  0.577829  ... -0.164350 -0.295135 -0.072173   \n",
       "\n",
       "             V24       V25       V26       V27       V28  Amount  Class  \n",
       "279863 -0.294885  0.537503  0.788395  0.292680  0.147968  390.00      1  \n",
       "280143 -0.081049  0.521875  0.739467  0.389152  0.186637    0.76      1  \n",
       "280149  0.032070 -0.739695  0.471111  0.385107  0.194361   77.89      1  \n",
       "281144 -0.183659 -0.328168  0.606116  0.884876 -0.253700  245.00      1  \n",
       "281674 -0.450261  0.313267 -0.289617  0.002988 -0.015309   42.53      1  \n",
       "\n",
       "[5 rows x 31 columns]"
      ]
     },
     "execution_count": 21,
     "metadata": {},
     "output_type": "execute_result"
    }
   ],
   "source": [
    "new_dataset.tail()"
   ]
  },
  {
   "cell_type": "code",
   "execution_count": 22,
   "id": "5b970f56",
   "metadata": {
    "execution": {
     "iopub.execute_input": "2023-10-10T14:59:16.234187Z",
     "iopub.status.busy": "2023-10-10T14:59:16.233812Z",
     "iopub.status.idle": "2023-10-10T14:59:16.241789Z",
     "shell.execute_reply": "2023-10-10T14:59:16.240763Z"
    },
    "papermill": {
     "duration": 0.020968,
     "end_time": "2023-10-10T14:59:16.244019",
     "exception": false,
     "start_time": "2023-10-10T14:59:16.223051",
     "status": "completed"
    },
    "tags": []
   },
   "outputs": [
    {
     "data": {
      "text/plain": [
       "Class\n",
       "0    492\n",
       "1    492\n",
       "Name: count, dtype: int64"
      ]
     },
     "execution_count": 22,
     "metadata": {},
     "output_type": "execute_result"
    }
   ],
   "source": [
    "new_dataset['Class'].value_counts()"
   ]
  },
  {
   "cell_type": "code",
   "execution_count": 23,
   "id": "0dedbf3e",
   "metadata": {
    "execution": {
     "iopub.execute_input": "2023-10-10T14:59:16.265414Z",
     "iopub.status.busy": "2023-10-10T14:59:16.264834Z",
     "iopub.status.idle": "2023-10-10T14:59:16.286091Z",
     "shell.execute_reply": "2023-10-10T14:59:16.284992Z"
    },
    "papermill": {
     "duration": 0.034292,
     "end_time": "2023-10-10T14:59:16.288157",
     "exception": false,
     "start_time": "2023-10-10T14:59:16.253865",
     "status": "completed"
    },
    "tags": []
   },
   "outputs": [
    {
     "data": {
      "text/html": [
       "<div>\n",
       "<style scoped>\n",
       "    .dataframe tbody tr th:only-of-type {\n",
       "        vertical-align: middle;\n",
       "    }\n",
       "\n",
       "    .dataframe tbody tr th {\n",
       "        vertical-align: top;\n",
       "    }\n",
       "\n",
       "    .dataframe thead th {\n",
       "        text-align: right;\n",
       "    }\n",
       "</style>\n",
       "<table border=\"1\" class=\"dataframe\">\n",
       "  <thead>\n",
       "    <tr style=\"text-align: right;\">\n",
       "      <th></th>\n",
       "      <th>Time</th>\n",
       "      <th>V1</th>\n",
       "      <th>V2</th>\n",
       "      <th>V3</th>\n",
       "      <th>V4</th>\n",
       "      <th>V5</th>\n",
       "      <th>V6</th>\n",
       "      <th>V7</th>\n",
       "      <th>V8</th>\n",
       "      <th>V9</th>\n",
       "      <th>...</th>\n",
       "      <th>V20</th>\n",
       "      <th>V21</th>\n",
       "      <th>V22</th>\n",
       "      <th>V23</th>\n",
       "      <th>V24</th>\n",
       "      <th>V25</th>\n",
       "      <th>V26</th>\n",
       "      <th>V27</th>\n",
       "      <th>V28</th>\n",
       "      <th>Amount</th>\n",
       "    </tr>\n",
       "    <tr>\n",
       "      <th>Class</th>\n",
       "      <th></th>\n",
       "      <th></th>\n",
       "      <th></th>\n",
       "      <th></th>\n",
       "      <th></th>\n",
       "      <th></th>\n",
       "      <th></th>\n",
       "      <th></th>\n",
       "      <th></th>\n",
       "      <th></th>\n",
       "      <th></th>\n",
       "      <th></th>\n",
       "      <th></th>\n",
       "      <th></th>\n",
       "      <th></th>\n",
       "      <th></th>\n",
       "      <th></th>\n",
       "      <th></th>\n",
       "      <th></th>\n",
       "      <th></th>\n",
       "      <th></th>\n",
       "    </tr>\n",
       "  </thead>\n",
       "  <tbody>\n",
       "    <tr>\n",
       "      <th>0</th>\n",
       "      <td>95777.396341</td>\n",
       "      <td>0.022043</td>\n",
       "      <td>-0.029785</td>\n",
       "      <td>0.009221</td>\n",
       "      <td>-0.004808</td>\n",
       "      <td>-0.049264</td>\n",
       "      <td>0.058951</td>\n",
       "      <td>-0.095355</td>\n",
       "      <td>-0.058978</td>\n",
       "      <td>0.003365</td>\n",
       "      <td>...</td>\n",
       "      <td>0.028977</td>\n",
       "      <td>0.091490</td>\n",
       "      <td>0.003222</td>\n",
       "      <td>0.029319</td>\n",
       "      <td>0.016696</td>\n",
       "      <td>0.031952</td>\n",
       "      <td>0.005319</td>\n",
       "      <td>-0.008634</td>\n",
       "      <td>-0.000711</td>\n",
       "      <td>93.125528</td>\n",
       "    </tr>\n",
       "    <tr>\n",
       "      <th>1</th>\n",
       "      <td>80746.806911</td>\n",
       "      <td>-4.771948</td>\n",
       "      <td>3.623778</td>\n",
       "      <td>-7.033281</td>\n",
       "      <td>4.542029</td>\n",
       "      <td>-3.151225</td>\n",
       "      <td>-1.397737</td>\n",
       "      <td>-5.568731</td>\n",
       "      <td>0.570636</td>\n",
       "      <td>-2.581123</td>\n",
       "      <td>...</td>\n",
       "      <td>0.372319</td>\n",
       "      <td>0.713588</td>\n",
       "      <td>0.014049</td>\n",
       "      <td>-0.040308</td>\n",
       "      <td>-0.105130</td>\n",
       "      <td>0.041449</td>\n",
       "      <td>0.051648</td>\n",
       "      <td>0.170575</td>\n",
       "      <td>0.075667</td>\n",
       "      <td>122.211321</td>\n",
       "    </tr>\n",
       "  </tbody>\n",
       "</table>\n",
       "<p>2 rows × 30 columns</p>\n",
       "</div>"
      ],
      "text/plain": [
       "               Time        V1        V2        V3        V4        V5  \\\n",
       "Class                                                                   \n",
       "0      95777.396341  0.022043 -0.029785  0.009221 -0.004808 -0.049264   \n",
       "1      80746.806911 -4.771948  3.623778 -7.033281  4.542029 -3.151225   \n",
       "\n",
       "             V6        V7        V8        V9  ...       V20       V21  \\\n",
       "Class                                          ...                       \n",
       "0      0.058951 -0.095355 -0.058978  0.003365  ...  0.028977  0.091490   \n",
       "1     -1.397737 -5.568731  0.570636 -2.581123  ...  0.372319  0.713588   \n",
       "\n",
       "            V22       V23       V24       V25       V26       V27       V28  \\\n",
       "Class                                                                         \n",
       "0      0.003222  0.029319  0.016696  0.031952  0.005319 -0.008634 -0.000711   \n",
       "1      0.014049 -0.040308 -0.105130  0.041449  0.051648  0.170575  0.075667   \n",
       "\n",
       "           Amount  \n",
       "Class              \n",
       "0       93.125528  \n",
       "1      122.211321  \n",
       "\n",
       "[2 rows x 30 columns]"
      ]
     },
     "execution_count": 23,
     "metadata": {},
     "output_type": "execute_result"
    }
   ],
   "source": [
    "new_dataset.groupby('Class').mean()"
   ]
  },
  {
   "cell_type": "markdown",
   "id": "8c4bec58",
   "metadata": {
    "papermill": {
     "duration": 0.009552,
     "end_time": "2023-10-10T14:59:16.307737",
     "exception": false,
     "start_time": "2023-10-10T14:59:16.298185",
     "status": "completed"
    },
    "tags": []
   },
   "source": [
    "# Splitting the data into features and targets"
   ]
  },
  {
   "cell_type": "code",
   "execution_count": 24,
   "id": "b520a7fc",
   "metadata": {
    "execution": {
     "iopub.execute_input": "2023-10-10T14:59:16.329909Z",
     "iopub.status.busy": "2023-10-10T14:59:16.329519Z",
     "iopub.status.idle": "2023-10-10T14:59:16.335473Z",
     "shell.execute_reply": "2023-10-10T14:59:16.334418Z"
    },
    "papermill": {
     "duration": 0.019652,
     "end_time": "2023-10-10T14:59:16.337662",
     "exception": false,
     "start_time": "2023-10-10T14:59:16.318010",
     "status": "completed"
    },
    "tags": []
   },
   "outputs": [],
   "source": [
    "X = new_dataset.drop(columns='Class',axis=1) # storing all the columns except class in x\n",
    "Y =new_dataset['Class'] # storing class column in y\n"
   ]
  },
  {
   "cell_type": "code",
   "execution_count": 25,
   "id": "67f22ed9",
   "metadata": {
    "execution": {
     "iopub.execute_input": "2023-10-10T14:59:16.360091Z",
     "iopub.status.busy": "2023-10-10T14:59:16.359758Z",
     "iopub.status.idle": "2023-10-10T14:59:16.375539Z",
     "shell.execute_reply": "2023-10-10T14:59:16.374465Z"
    },
    "papermill": {
     "duration": 0.030204,
     "end_time": "2023-10-10T14:59:16.378224",
     "exception": false,
     "start_time": "2023-10-10T14:59:16.348020",
     "status": "completed"
    },
    "tags": []
   },
   "outputs": [
    {
     "name": "stdout",
     "output_type": "stream",
     "text": [
      "            Time        V1        V2        V3        V4        V5        V6  \\\n",
      "56061    47254.0 -2.974873  1.457139  0.148255 -0.003010  0.453021  1.165933   \n",
      "138508   82683.0  1.272549 -0.424212  0.365301 -1.454539 -0.887417 -0.948320   \n",
      "258830  158843.0  0.093821 -3.190367 -1.110399  2.657262 -1.474484  0.111049   \n",
      "66454    52062.0  0.078032 -2.986649  0.428191  0.198944 -2.371570 -0.129823   \n",
      "130928   79461.0  1.175316 -0.652573  1.394370  0.670637 -1.407501  0.526586   \n",
      "...          ...       ...       ...       ...       ...       ...       ...   \n",
      "279863  169142.0 -1.927883  1.125653 -4.518331  1.749293 -1.566487 -2.010494   \n",
      "280143  169347.0  1.378559  1.289381 -5.004247  1.411850  0.442581 -1.326536   \n",
      "280149  169351.0 -0.676143  1.126366 -2.213700  0.468308 -1.120541 -0.003346   \n",
      "281144  169966.0 -3.113832  0.585864 -5.399730  1.817092 -0.840618 -2.943548   \n",
      "281674  170348.0  1.991976  0.158476 -2.583441  0.408670  1.151147 -0.096695   \n",
      "\n",
      "              V7        V8        V9  ...       V20       V21       V22  \\\n",
      "56061   0.634210 -0.145641  1.288455  ... -0.354579 -0.297367 -0.238508   \n",
      "138508 -0.342555 -0.150394  1.473038  ...  0.017341 -0.083474 -0.198086   \n",
      "258830  0.731809 -0.328899 -0.428092  ...  1.919283  0.704893 -0.130920   \n",
      "66454  -0.339217 -0.043413  0.256252  ...  1.294814  0.382944 -0.269018   \n",
      "130928 -1.239771  0.423979 -0.321673  ... -0.662065 -0.351600 -0.383497   \n",
      "...          ...       ...       ...  ...       ...       ...       ...   \n",
      "279863 -0.882850  0.697211 -2.064945  ...  1.252967  0.778584 -0.319189   \n",
      "280143 -1.413170  0.248525 -1.127396  ...  0.226138  0.370612  0.028234   \n",
      "280149 -2.234739  1.210158 -0.652250  ...  0.247968  0.751826  0.834108   \n",
      "281144 -2.208002  1.058733 -1.632333  ...  0.306271  0.583276 -0.269209   \n",
      "281674  0.223050 -0.068384  0.577829  ... -0.017652 -0.164350 -0.295135   \n",
      "\n",
      "             V23       V24       V25       V26       V27       V28  Amount  \n",
      "56061  -0.011785 -1.365407 -0.187416 -0.697407 -1.401961  0.085688   53.91  \n",
      "138508 -0.043203 -0.081905  0.339594 -0.056287  0.015566  0.024920   34.67  \n",
      "258830 -0.586126  0.062797 -1.069012  2.138121 -0.340645  0.106709  987.21  \n",
      "66454  -0.552980  0.425274  0.099086 -0.309938 -0.078049  0.136290  663.20  \n",
      "130928  0.144630  0.156963  0.130978 -0.387221  0.103822  0.027655    1.00  \n",
      "...          ...       ...       ...       ...       ...       ...     ...  \n",
      "279863  0.639419 -0.294885  0.537503  0.788395  0.292680  0.147968  390.00  \n",
      "280143 -0.145640 -0.081049  0.521875  0.739467  0.389152  0.186637    0.76  \n",
      "280149  0.190944  0.032070 -0.739695  0.471111  0.385107  0.194361   77.89  \n",
      "281144 -0.456108 -0.183659 -0.328168  0.606116  0.884876 -0.253700  245.00  \n",
      "281674 -0.072173 -0.450261  0.313267 -0.289617  0.002988 -0.015309   42.53  \n",
      "\n",
      "[984 rows x 30 columns]\n"
     ]
    }
   ],
   "source": [
    "print(X)"
   ]
  },
  {
   "cell_type": "code",
   "execution_count": 26,
   "id": "b4b8a8b7",
   "metadata": {
    "execution": {
     "iopub.execute_input": "2023-10-10T14:59:16.400672Z",
     "iopub.status.busy": "2023-10-10T14:59:16.400318Z",
     "iopub.status.idle": "2023-10-10T14:59:16.406943Z",
     "shell.execute_reply": "2023-10-10T14:59:16.405553Z"
    },
    "papermill": {
     "duration": 0.020335,
     "end_time": "2023-10-10T14:59:16.409249",
     "exception": false,
     "start_time": "2023-10-10T14:59:16.388914",
     "status": "completed"
    },
    "tags": []
   },
   "outputs": [
    {
     "name": "stdout",
     "output_type": "stream",
     "text": [
      "56061     0\n",
      "138508    0\n",
      "258830    0\n",
      "66454     0\n",
      "130928    0\n",
      "         ..\n",
      "279863    1\n",
      "280143    1\n",
      "280149    1\n",
      "281144    1\n",
      "281674    1\n",
      "Name: Class, Length: 984, dtype: int64\n"
     ]
    }
   ],
   "source": [
    "print(Y)"
   ]
  },
  {
   "cell_type": "markdown",
   "id": "7557b0b8",
   "metadata": {
    "papermill": {
     "duration": 0.00972,
     "end_time": "2023-10-10T14:59:16.429002",
     "exception": false,
     "start_time": "2023-10-10T14:59:16.419282",
     "status": "completed"
    },
    "tags": []
   },
   "source": [
    "# Splitting the data into training and testing"
   ]
  },
  {
   "cell_type": "code",
   "execution_count": 27,
   "id": "e3f43a46",
   "metadata": {
    "execution": {
     "iopub.execute_input": "2023-10-10T14:59:16.451312Z",
     "iopub.status.busy": "2023-10-10T14:59:16.450917Z",
     "iopub.status.idle": "2023-10-10T14:59:16.458871Z",
     "shell.execute_reply": "2023-10-10T14:59:16.457936Z"
    },
    "papermill": {
     "duration": 0.021704,
     "end_time": "2023-10-10T14:59:16.461108",
     "exception": false,
     "start_time": "2023-10-10T14:59:16.439404",
     "status": "completed"
    },
    "tags": []
   },
   "outputs": [],
   "source": [
    "X_train,X_test,Y_train,Y_test = train_test_split(X,Y,test_size=0.2,stratify =Y ,random_state=42)\n",
    "# 20% --> testing data, 80% --> training data\n",
    "# The stratify parameter makes a split so that the proportion of values in the sample produced will be the same as the proportion of values provided to parameter stratify"
   ]
  },
  {
   "cell_type": "code",
   "execution_count": 28,
   "id": "81a9123b",
   "metadata": {
    "execution": {
     "iopub.execute_input": "2023-10-10T14:59:16.483369Z",
     "iopub.status.busy": "2023-10-10T14:59:16.483024Z",
     "iopub.status.idle": "2023-10-10T14:59:16.487369Z",
     "shell.execute_reply": "2023-10-10T14:59:16.486636Z"
    },
    "papermill": {
     "duration": 0.0176,
     "end_time": "2023-10-10T14:59:16.489243",
     "exception": false,
     "start_time": "2023-10-10T14:59:16.471643",
     "status": "completed"
    },
    "tags": []
   },
   "outputs": [
    {
     "name": "stdout",
     "output_type": "stream",
     "text": [
      "(984, 30) (787, 30) (197, 30)\n"
     ]
    }
   ],
   "source": [
    "print(X.shape,X_train.shape,X_test.shape)"
   ]
  },
  {
   "cell_type": "code",
   "execution_count": 29,
   "id": "a7339c6c",
   "metadata": {
    "execution": {
     "iopub.execute_input": "2023-10-10T14:59:16.512395Z",
     "iopub.status.busy": "2023-10-10T14:59:16.511997Z",
     "iopub.status.idle": "2023-10-10T14:59:16.517673Z",
     "shell.execute_reply": "2023-10-10T14:59:16.516503Z"
    },
    "papermill": {
     "duration": 0.019647,
     "end_time": "2023-10-10T14:59:16.519603",
     "exception": false,
     "start_time": "2023-10-10T14:59:16.499956",
     "status": "completed"
    },
    "tags": []
   },
   "outputs": [
    {
     "name": "stdout",
     "output_type": "stream",
     "text": [
      "(984,) (787,) (197,)\n"
     ]
    }
   ],
   "source": [
    "print(Y.shape,Y_train.shape,Y_test.shape)"
   ]
  },
  {
   "cell_type": "markdown",
   "id": "ad036eaa",
   "metadata": {
    "papermill": {
     "duration": 0.010169,
     "end_time": "2023-10-10T14:59:16.540095",
     "exception": false,
     "start_time": "2023-10-10T14:59:16.529926",
     "status": "completed"
    },
    "tags": []
   },
   "source": [
    "Model Training"
   ]
  },
  {
   "cell_type": "code",
   "execution_count": 30,
   "id": "f74b7601",
   "metadata": {
    "execution": {
     "iopub.execute_input": "2023-10-10T14:59:16.562310Z",
     "iopub.status.busy": "2023-10-10T14:59:16.561904Z",
     "iopub.status.idle": "2023-10-10T14:59:16.621527Z",
     "shell.execute_reply": "2023-10-10T14:59:16.620099Z"
    },
    "papermill": {
     "duration": 0.075392,
     "end_time": "2023-10-10T14:59:16.626020",
     "exception": false,
     "start_time": "2023-10-10T14:59:16.550628",
     "status": "completed"
    },
    "tags": []
   },
   "outputs": [
    {
     "data": {
      "text/html": [
       "<style>#sk-container-id-1 {color: black;background-color: white;}#sk-container-id-1 pre{padding: 0;}#sk-container-id-1 div.sk-toggleable {background-color: white;}#sk-container-id-1 label.sk-toggleable__label {cursor: pointer;display: block;width: 100%;margin-bottom: 0;padding: 0.3em;box-sizing: border-box;text-align: center;}#sk-container-id-1 label.sk-toggleable__label-arrow:before {content: \"▸\";float: left;margin-right: 0.25em;color: #696969;}#sk-container-id-1 label.sk-toggleable__label-arrow:hover:before {color: black;}#sk-container-id-1 div.sk-estimator:hover label.sk-toggleable__label-arrow:before {color: black;}#sk-container-id-1 div.sk-toggleable__content {max-height: 0;max-width: 0;overflow: hidden;text-align: left;background-color: #f0f8ff;}#sk-container-id-1 div.sk-toggleable__content pre {margin: 0.2em;color: black;border-radius: 0.25em;background-color: #f0f8ff;}#sk-container-id-1 input.sk-toggleable__control:checked~div.sk-toggleable__content {max-height: 200px;max-width: 100%;overflow: auto;}#sk-container-id-1 input.sk-toggleable__control:checked~label.sk-toggleable__label-arrow:before {content: \"▾\";}#sk-container-id-1 div.sk-estimator input.sk-toggleable__control:checked~label.sk-toggleable__label {background-color: #d4ebff;}#sk-container-id-1 div.sk-label input.sk-toggleable__control:checked~label.sk-toggleable__label {background-color: #d4ebff;}#sk-container-id-1 input.sk-hidden--visually {border: 0;clip: rect(1px 1px 1px 1px);clip: rect(1px, 1px, 1px, 1px);height: 1px;margin: -1px;overflow: hidden;padding: 0;position: absolute;width: 1px;}#sk-container-id-1 div.sk-estimator {font-family: monospace;background-color: #f0f8ff;border: 1px dotted black;border-radius: 0.25em;box-sizing: border-box;margin-bottom: 0.5em;}#sk-container-id-1 div.sk-estimator:hover {background-color: #d4ebff;}#sk-container-id-1 div.sk-parallel-item::after {content: \"\";width: 100%;border-bottom: 1px solid gray;flex-grow: 1;}#sk-container-id-1 div.sk-label:hover label.sk-toggleable__label {background-color: #d4ebff;}#sk-container-id-1 div.sk-serial::before {content: \"\";position: absolute;border-left: 1px solid gray;box-sizing: border-box;top: 0;bottom: 0;left: 50%;z-index: 0;}#sk-container-id-1 div.sk-serial {display: flex;flex-direction: column;align-items: center;background-color: white;padding-right: 0.2em;padding-left: 0.2em;position: relative;}#sk-container-id-1 div.sk-item {position: relative;z-index: 1;}#sk-container-id-1 div.sk-parallel {display: flex;align-items: stretch;justify-content: center;background-color: white;position: relative;}#sk-container-id-1 div.sk-item::before, #sk-container-id-1 div.sk-parallel-item::before {content: \"\";position: absolute;border-left: 1px solid gray;box-sizing: border-box;top: 0;bottom: 0;left: 50%;z-index: -1;}#sk-container-id-1 div.sk-parallel-item {display: flex;flex-direction: column;z-index: 1;position: relative;background-color: white;}#sk-container-id-1 div.sk-parallel-item:first-child::after {align-self: flex-end;width: 50%;}#sk-container-id-1 div.sk-parallel-item:last-child::after {align-self: flex-start;width: 50%;}#sk-container-id-1 div.sk-parallel-item:only-child::after {width: 0;}#sk-container-id-1 div.sk-dashed-wrapped {border: 1px dashed gray;margin: 0 0.4em 0.5em 0.4em;box-sizing: border-box;padding-bottom: 0.4em;background-color: white;}#sk-container-id-1 div.sk-label label {font-family: monospace;font-weight: bold;display: inline-block;line-height: 1.2em;}#sk-container-id-1 div.sk-label-container {text-align: center;}#sk-container-id-1 div.sk-container {/* jupyter's `normalize.less` sets `[hidden] { display: none; }` but bootstrap.min.css set `[hidden] { display: none !important; }` so we also need the `!important` here to be able to override the default hidden behavior on the sphinx rendered scikit-learn.org. See: https://github.com/scikit-learn/scikit-learn/issues/21755 */display: inline-block !important;position: relative;}#sk-container-id-1 div.sk-text-repr-fallback {display: none;}</style><div id=\"sk-container-id-1\" class=\"sk-top-container\"><div class=\"sk-text-repr-fallback\"><pre>LogisticRegression()</pre><b>In a Jupyter environment, please rerun this cell to show the HTML representation or trust the notebook. <br />On GitHub, the HTML representation is unable to render, please try loading this page with nbviewer.org.</b></div><div class=\"sk-container\" hidden><div class=\"sk-item\"><div class=\"sk-estimator sk-toggleable\"><input class=\"sk-toggleable__control sk-hidden--visually\" id=\"sk-estimator-id-1\" type=\"checkbox\" checked><label for=\"sk-estimator-id-1\" class=\"sk-toggleable__label sk-toggleable__label-arrow\">LogisticRegression</label><div class=\"sk-toggleable__content\"><pre>LogisticRegression()</pre></div></div></div></div></div>"
      ],
      "text/plain": [
       "LogisticRegression()"
      ]
     },
     "execution_count": 30,
     "metadata": {},
     "output_type": "execute_result"
    }
   ],
   "source": [
    "# Logistic Regression\n",
    "\n",
    "model = LogisticRegression()\n",
    "\n",
    "# training the logistic regression model with training data\n",
    "model.fit(X_train,Y_train)"
   ]
  },
  {
   "cell_type": "markdown",
   "id": "f994a497",
   "metadata": {
    "papermill": {
     "duration": 0.031682,
     "end_time": "2023-10-10T14:59:16.691228",
     "exception": false,
     "start_time": "2023-10-10T14:59:16.659546",
     "status": "completed"
    },
    "tags": []
   },
   "source": [
    "# Model Evaluation"
   ]
  },
  {
   "cell_type": "code",
   "execution_count": 31,
   "id": "af6bda4e",
   "metadata": {
    "execution": {
     "iopub.execute_input": "2023-10-10T14:59:16.734098Z",
     "iopub.status.busy": "2023-10-10T14:59:16.733739Z",
     "iopub.status.idle": "2023-10-10T14:59:16.746418Z",
     "shell.execute_reply": "2023-10-10T14:59:16.744492Z"
    },
    "papermill": {
     "duration": 0.02893,
     "end_time": "2023-10-10T14:59:16.750756",
     "exception": false,
     "start_time": "2023-10-10T14:59:16.721826",
     "status": "completed"
    },
    "tags": []
   },
   "outputs": [],
   "source": [
    "# Accuracy score\n",
    "\n",
    "# accuracy on training data\n",
    "X_train_prediction=model.predict(X_train)\n",
    "training_data_accuracy= accuracy_score(X_train_prediction,Y_train)"
   ]
  },
  {
   "cell_type": "code",
   "execution_count": 32,
   "id": "4e550189",
   "metadata": {
    "execution": {
     "iopub.execute_input": "2023-10-10T14:59:16.817155Z",
     "iopub.status.busy": "2023-10-10T14:59:16.816210Z",
     "iopub.status.idle": "2023-10-10T14:59:16.825572Z",
     "shell.execute_reply": "2023-10-10T14:59:16.824052Z"
    },
    "papermill": {
     "duration": 0.046954,
     "end_time": "2023-10-10T14:59:16.829514",
     "exception": false,
     "start_time": "2023-10-10T14:59:16.782560",
     "status": "completed"
    },
    "tags": []
   },
   "outputs": [
    {
     "name": "stdout",
     "output_type": "stream",
     "text": [
      "Accuracy on Training data :  0.9174078780177891\n"
     ]
    }
   ],
   "source": [
    "print(\"Accuracy on Training data : \",training_data_accuracy)"
   ]
  },
  {
   "cell_type": "code",
   "execution_count": 33,
   "id": "5ffb5665",
   "metadata": {
    "execution": {
     "iopub.execute_input": "2023-10-10T14:59:16.873040Z",
     "iopub.status.busy": "2023-10-10T14:59:16.872650Z",
     "iopub.status.idle": "2023-10-10T14:59:16.879756Z",
     "shell.execute_reply": "2023-10-10T14:59:16.879010Z"
    },
    "papermill": {
     "duration": 0.020679,
     "end_time": "2023-10-10T14:59:16.881588",
     "exception": false,
     "start_time": "2023-10-10T14:59:16.860909",
     "status": "completed"
    },
    "tags": []
   },
   "outputs": [],
   "source": [
    "# accuracy on test data\n",
    "X_test_prediction=model.predict(X_test)\n",
    "testing_data_accuracy= accuracy_score(X_test_prediction,Y_test)"
   ]
  },
  {
   "cell_type": "code",
   "execution_count": 34,
   "id": "8cbe7199",
   "metadata": {
    "execution": {
     "iopub.execute_input": "2023-10-10T14:59:16.904805Z",
     "iopub.status.busy": "2023-10-10T14:59:16.904099Z",
     "iopub.status.idle": "2023-10-10T14:59:16.908997Z",
     "shell.execute_reply": "2023-10-10T14:59:16.907936Z"
    },
    "papermill": {
     "duration": 0.018887,
     "end_time": "2023-10-10T14:59:16.911197",
     "exception": false,
     "start_time": "2023-10-10T14:59:16.892310",
     "status": "completed"
    },
    "tags": []
   },
   "outputs": [
    {
     "name": "stdout",
     "output_type": "stream",
     "text": [
      "Accuracy on Testing data :  0.949238578680203\n"
     ]
    }
   ],
   "source": [
    "print(\"Accuracy on Testing data : \",testing_data_accuracy)"
   ]
  },
  {
   "cell_type": "code",
   "execution_count": null,
   "id": "7d9178e3",
   "metadata": {
    "papermill": {
     "duration": 0.010975,
     "end_time": "2023-10-10T14:59:16.932947",
     "exception": false,
     "start_time": "2023-10-10T14:59:16.921972",
     "status": "completed"
    },
    "tags": []
   },
   "outputs": [],
   "source": []
  }
 ],
 "metadata": {
  "kernelspec": {
   "display_name": "Python 3",
   "language": "python",
   "name": "python3"
  },
  "language_info": {
   "codemirror_mode": {
    "name": "ipython",
    "version": 3
   },
   "file_extension": ".py",
   "mimetype": "text/x-python",
   "name": "python",
   "nbconvert_exporter": "python",
   "pygments_lexer": "ipython3",
   "version": "3.10.12"
  },
  "papermill": {
   "default_parameters": {},
   "duration": 12.269357,
   "end_time": "2023-10-10T14:59:17.565031",
   "environment_variables": {},
   "exception": null,
   "input_path": "__notebook__.ipynb",
   "output_path": "__notebook__.ipynb",
   "parameters": {},
   "start_time": "2023-10-10T14:59:05.295674",
   "version": "2.4.0"
  }
 },
 "nbformat": 4,
 "nbformat_minor": 5
}
